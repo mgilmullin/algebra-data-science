{
 "cells": [
  {
   "cell_type": "markdown",
   "metadata": {},
   "source": [
    "<a href=\"https://github.com/mgilmullin/algebra-data-science/blob/develop/README.md\"><img alt=\"TKSBrokerAPI-Logo\" src=\"https://github.com/mgilmullin/algebra-data-science/blob/develop/media/datascience-robot-wide-2700x675.png?raw=true\" width=\"1200\"/></a>"
   ]
  },
  {
   "cell_type": "markdown",
   "metadata": {},
   "source": [
    "# Джентельменский набор Data Scientist-а: основные понятия алгебры\n",
    "\n",
    "- **Автор:** [Мансур Гильмуллин](https://www.linkedin.com/in/mgilmullin), к.п.н.\n",
    "\n",
    "- **Читайте лекции по теме:** \"[Вставить ссылку на книгу с лекциями](https://forworktests.blogspot.com/2022/12/blog-post.html)\"\n",
    "\n",
    "## Предварительные настройки\n",
    "\n",
    "Для работы с примерами в этом ноутбуке вам понадобятся `python >= 3.9` и установленные в него дополнительные пакеты, которые перечислены в файле `requrements.txt`."
   ]
  },
  {
   "cell_type": "code",
   "execution_count": 6,
   "metadata": {},
   "outputs": [
    {
     "name": "stdout",
     "output_type": "stream",
     "text": [
      "Collecting pandas>=1.5.2"
     ]
    },
    {
     "name": "stderr",
     "output_type": "stream",
     "text": [
      "\n",
      "[notice] A new release of pip available: 22.3.1 -> 23.0\n",
      "[notice] To update, run: python.exe -m pip install --upgrade pip\n"
     ]
    },
    {
     "name": "stdout",
     "output_type": "stream",
     "text": [
      "\n",
      "  Downloading pandas-1.5.3-cp311-cp311-win_amd64.whl (10.3 MB)\n",
      "     ---------------------------------------- 10.3/10.3 MB 2.4 MB/s eta 0:00:00\n",
      "Collecting numpy>=1.23.5\n",
      "  Downloading numpy-1.24.2-cp311-cp311-win_amd64.whl (14.8 MB)\n",
      "     ---------------------------------------- 14.8/14.8 MB 1.4 MB/s eta 0:00:00\n",
      "Collecting scipy>=1.10.0\n",
      "  Downloading scipy-1.10.0-cp311-cp311-win_amd64.whl (42.2 MB)\n",
      "     ---------------------------------------- 42.2/42.2 MB 1.7 MB/s eta 0:00:00\n",
      "Requirement already satisfied: python-dateutil>=2.8.1 in d:\\projects\\algebra-data-science\\venv\\lib\\site-packages (from pandas>=1.5.2->-r requirements.txt (line 5)) (2.8.2)\n",
      "Collecting pytz>=2020.1\n",
      "  Downloading pytz-2022.7.1-py2.py3-none-any.whl (499 kB)\n",
      "     -------------------------------------- 499.4/499.4 kB 1.7 MB/s eta 0:00:00\n",
      "Requirement already satisfied: six>=1.5 in d:\\projects\\algebra-data-science\\venv\\lib\\site-packages (from python-dateutil>=2.8.1->pandas>=1.5.2->-r requirements.txt (line 5)) (1.16.0)\n",
      "Installing collected packages: pytz, numpy, scipy, pandas\n",
      "Successfully installed numpy-1.24.2 pandas-1.5.3 pytz-2022.7.1 scipy-1.10.0\n"
     ]
    }
   ],
   "source": [
    "# Установим нужные pip-пакеты в текущий Jupyter kernel:\n",
    "import sys\n",
    "\n",
    "!{sys.executable} -m pip install -r requirements.txt"
   ]
  },
  {
   "cell_type": "code",
   "execution_count": 8,
   "metadata": {},
   "outputs": [],
   "source": [
    "# Импортируем все библиотеки, необходимые для работы ноутбука и примеров:\n",
    "import pandas as pd\n",
    "import numpy as np\n",
    "import scipy as sc"
   ]
  },
  {
   "cell_type": "markdown",
   "metadata": {},
   "source": [
    "## Введение\n",
    "\n",
    "На практике ..."
   ]
  },
  {
   "cell_type": "markdown",
   "source": [
    "## Операции над множествами. Множества в Python"
   ],
   "metadata": {
    "collapsed": false
   }
  },
  {
   "cell_type": "markdown",
   "source": [
    "Множество — это один из четырёх встроенных типов данных в Python, используемых для хранения коллекций (наборов) данных, остальные три — это список, кортеж, словарь, все с разными качествами и использованием. Множество — это неупорядоченная, неизменяемая и неиндексированная коллекция.\n",
    "\n",
    "Множество объявляется так: элементы помещаются в фигурные скобки {} и разделяются запятыми. Стандартно обозначают множества чисел: N, Z, Q, R, C (натуральные, целые, рациональные, действительные, комплексные числа).\n",
    "\n",
    "m ∈ M (говорят: «m принадлежит M», «m является элементом M», m belongs to M).\n",
    "m ∉ M (говорят: «m не принадлежит M», «m не является элементом M»\n",
    "∅ — пустое множество (множество, не имеющее элементов, empty set).\n",
    "A ⊂ B (читается: «B содержит A», «A является подмножеством B» (A is contained in B, A is a subset of B).\n",
    "P(A) — множество всех подмножеств множества A (power set of A).\n",
    "\n",
    "A ⋃ B — объединение двух множеств (A union B, A or B) — множество, состоящее из тех и только тех элементов, которые принадлежат хотя бы одному из множеств A и B.\n",
    "\n",
    "A ⋂ B — пересечение двух множеств (A intersection B, A and B) — множество, состоящее из тех и только тех элементов, которые принадлежат одновременно каждому из множеств A и B.\n",
    "\n",
    "A\\B — разность двух множеств (A minus B) — множество, содержащее те элементы множества A, которые не являются элементами множества B, и только их.\n",
    "\n",
    "Универсальное множество U (universal set): все рассматриваемые множества являются его подмножествами.\n",
    "U\\A обозначают A  \\bar{A} и называют дополнением A до U (A bar).\n"
   ],
   "metadata": {
    "collapsed": false
   }
  },
  {
   "cell_type": "markdown",
   "source": [
    "\n",
    "XOR (exclusive or, исключающее или) возвращает 1, если один из битов равен 0, а другой бит равен 1. Если оба би-та равны 0 или 1, он возвращает 0. Сравнивает два дво-ичных числа побитово. Если два бита одинаковы, XOR выводит как 0. Когда два бита различны, XOR выводит как 1. Обозначается ^.\n",
    "Пример.\n",
    "A = 10 = 1010 (Binary)\n",
    "b = 7 =  0111 (Binary)\n",
    "Чему равно a ^ b ?\n",
    "a ^ b = 1010 ^ 0111 = 1101  = 13 (Decimal)\n",
    "10 ^ 7 = 13.\n",
    "Ответ: 13.\n"
   ],
   "metadata": {
    "collapsed": false
   }
  },
  {
   "cell_type": "code",
   "execution_count": 5,
   "outputs": [
    {
     "data": {
      "text/plain": "13"
     },
     "execution_count": 5,
     "metadata": {},
     "output_type": "execute_result"
    }
   ],
   "source": [
    "a=10\n",
    "b=7\n",
    "c=a^b\n",
    "c"
   ],
   "metadata": {
    "collapsed": false
   }
  },
  {
   "cell_type": "markdown",
   "source": [
    "Подставьте в код выше значения 5 и 7. Чему равен результат? напишите код ниже:"
   ],
   "metadata": {
    "collapsed": false
   }
  },
  {
   "cell_type": "code",
   "execution_count": null,
   "outputs": [],
   "source": [
    "a=1\n",
    "b=2\n",
    "[вставьте сюда ваш код]"
   ],
   "metadata": {
    "collapsed": false
   }
  },
  {
   "cell_type": "markdown",
   "metadata": {},
   "source": [
    "## Выводы\n",
    "\n",
    "На практике ......"
   ]
  },
  {
   "cell_type": "markdown",
   "metadata": {},
   "source": [
    "## Источники\n",
    "\n",
    "1. ...\n",
    "2. ...\n",
    "3. ..."
   ]
  }
 ],
 "metadata": {
  "kernelspec": {
   "display_name": "Python 3 (ipykernel)",
   "language": "python",
   "name": "python3"
  },
  "language_info": {
   "codemirror_mode": {
    "name": "ipython",
    "version": 3
   },
   "file_extension": ".py",
   "mimetype": "text/x-python",
   "name": "python",
   "nbconvert_exporter": "python",
   "pygments_lexer": "ipython3",
   "version": "3.9.13"
  },
  "widgets": {
   "application/vnd.jupyter.widget-state+json": {
    "state": {},
    "version_major": 2,
    "version_minor": 0
   }
  }
 },
 "nbformat": 4,
 "nbformat_minor": 1
}
