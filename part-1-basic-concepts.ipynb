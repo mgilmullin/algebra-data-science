{
 "cells": [
  {
   "cell_type": "markdown",
   "metadata": {},
   "source": [
    "<a href=\"https://github.com/mgilmullin/algebra-data-science/blob/develop/README.md\"><img alt=\"TKSBrokerAPI-Logo\" src=\"https://github.com/mgilmullin/algebra-data-science/blob/develop/media/datascience-robot-wide-2700x675.png?raw=true\" width=\"1200\"/></a>"
   ]
  },
  {
   "cell_type": "markdown",
   "metadata": {},
   "source": [
    "# Джентельменский набор Data Scientist-а: основные понятия алгебры\n",
    "\n",
    "- **Автор:** [Мансур Гильмуллин](https://www.linkedin.com/in/mgilmullin), к.п.н.\n",
    "\n",
    "- **Читайте лекции по теме:** \"[Вставить ссылку на книгу с лекциями](https://forworktests.blogspot.com/2022/12/blog-post.html)\"\n",
    "\n",
    "## Предварительные настройки\n",
    "\n",
    "Для работы с примерами в этом ноутбуке вам понадобятся `python >= 3.9` и установленные в него дополнительные пакеты, которые перечислены в файле `requrements.txt`."
   ]
  },
  {
   "cell_type": "code",
   "execution_count": null,
   "metadata": {
    "pycharm": {
     "is_executing": true
    }
   },
   "outputs": [],
   "source": [
    "# Установим нужные pip-пакеты в текущий Jupyter kernel:\n",
    "import sys\n",
    "\n",
    "!{sys.executable} -m pip install -r requirements.txt"
   ]
  },
  {
   "cell_type": "code",
   "execution_count": 8,
   "metadata": {},
   "outputs": [],
   "source": [
    "# Импортируем все библиотеки, необходимые для работы ноутбука и примеров:\n",
    "import pandas as pd\n",
    "import numpy as np\n",
    "import scipy as sc"
   ]
  },
  {
   "cell_type": "markdown",
   "metadata": {},
   "source": [
    "## Введение\n",
    "\n",
    "На практике ..."
   ]
  },
  {
   "cell_type": "markdown",
   "source": [
    "## Операции над множествами. Множества в Python\n",
    "\n",
    "Множество — это один из четырёх встроенных типов данных в Python, используемых для хранения коллекций (наборов) данных, остальные три — это список, кортеж, словарь, все с разными качествами и использованием. Множество — это неупорядоченная, неизменяемая и неиндексированная коллекция.\n",
    "\n",
    "Множество объявляется так: элементы помещаются в фигурные скобки { } и разделяются запятыми. Стандартно обозначают множества чисел: N, Z, Q, R, C (натуральные, целые, рациональные, действительные, комплексные числа).\n",
    "\n",
    "- m ∈ M (говорят: «m принадлежит M», «m является элементом M», m belongs to M).\n",
    "- m ∉ M (говорят: «m не принадлежит M», «m не является элементом M».\n",
    "- ∅ — пустое множество (множество, не имеющее элементов, empty set).\n",
    "- A ⊂ B (читается: «B содержит A», «A является подмножеством B» (A is contained in B, A is a subset of B).\n",
    "- P(A) — множество всех подмножеств множества A (power set of A).\n",
    "\n",
    "Операции с множествами:\n",
    "\n",
    "- A ⋃ B — объединение двух множеств (A union B, A or B) — множество, состоящее из тех и только тех элементов, которые принадлежат хотя бы одному из множеств A и B.\n",
    "- A ⋂ B — пересечение двух множеств (A intersection B, A and B) — множество, состоящее из тех и только тех элементов, которые принадлежат одновременно каждому из множеств A и B.\n",
    "- A\\B — разность двух множеств (A minus B) — множество, содержащее те элементы множества A, которые не являются элементами множества B, и только их.\n",
    "- Универсальное множество U (universal set): все рассматриваемые множества являются его подмножествами.\n",
    "U\\A называют дополнением A до U (A bar).\n",
    "- Симметрическая разность двух множеств (symmetric difference) — множество всех элементов, встречающихся в одном множестве, но не встречающихся в обоих: A∆B=(A\\B) ∪ (B\\A)."
   ],
   "metadata": {
    "collapsed": false
   }
  },
  {
   "cell_type": "markdown",
   "source": [
    "В Python метод union() возвращает новое множество со всеми элементами из обоих множеств:\n",
    "- set1 = {3, 4, 5}\n",
    "- set2 = {1, 2, 3}\n",
    "\n",
    "В Python:"
   ],
   "metadata": {
    "collapsed": false
   }
  },
  {
   "cell_type": "code",
   "execution_count": 27,
   "outputs": [
    {
     "data": {
      "text/plain": "{1, 2, 3, 4, 5}"
     },
     "execution_count": 27,
     "metadata": {},
     "output_type": "execute_result"
    }
   ],
   "source": [
    "set1 = {3, 4, 5}\n",
    "set2 = {1, 2, 3}\n",
    "set3 = set1.union(set2)\n",
    "\n",
    "set3"
   ],
   "metadata": {
    "collapsed": false
   }
  },
  {
   "cell_type": "markdown",
   "source": [
    "Рассмотрим другой вариант использования `union()` с использованием функции `set()`. Функция `set()` преобразует любой перечислимый тип во множество. Это часто используется на практике, чтобы оставить только уникальные элементы коллекции."
   ],
   "metadata": {
    "collapsed": false
   }
  },
  {
   "cell_type": "code",
   "execution_count": 28,
   "outputs": [
    {
     "data": {
      "text/plain": "{1, 2, 3, 'a', 'b', 'c'}"
     },
     "execution_count": 28,
     "metadata": {},
     "output_type": "execute_result"
    }
   ],
   "source": [
    "A = [\"a\", \"b\" , \"c\"]  # Список\n",
    "B = (1, 2, 3)  # Кортеж\n",
    "set3 = set(A).union(set(B))  # Преобразование во множество при помощи функции set()\n",
    "\n",
    "set3"
   ],
   "metadata": {
    "collapsed": false
   }
  },
  {
   "cell_type": "markdown",
   "source": [
    "В Python метод `x.difference(y)` возвращает множество, содержащий все элементы, которые существуют только в множестве x, но не в множестве y:"
   ],
   "metadata": {
    "collapsed": false
   }
  },
  {
   "cell_type": "code",
   "execution_count": 20,
   "outputs": [
    {
     "data": {
      "text/plain": "{'banana', 'cherry'}"
     },
     "execution_count": 20,
     "metadata": {},
     "output_type": "execute_result"
    }
   ],
   "source": [
    "x = {\"apple\", \"banana\", \"cherry\"}\n",
    "y = {\"google\", \"microsoft\", \"apple\"}\n",
    "z = x.difference(y)\n",
    "\n",
    "z"
   ],
   "metadata": {
    "collapsed": false
   }
  },
  {
   "cell_type": "markdown",
   "source": [
    "**Leetcode: 78. Подмножества**\n",
    "\n",
    "Дан массив уникальных элементов - целых чисел, вернуть все возможные подмножества (The Power Set).\n",
    "Массив решений не должен содержать повторяющихся подмножеств. Выведите решение в любом порядке.\n",
    "\n",
    "Пример:\n",
    "- На вход: `nums = [1,2,3]`.\n",
    "- На выходе: `[[],[1],[2],[1,2],[3],[1,3],[2,3],[1,2,3]]`.\n",
    "\n",
    "Решение на Python получится таким:"
   ],
   "metadata": {
    "collapsed": false
   }
  },
  {
   "cell_type": "code",
   "execution_count": 24,
   "outputs": [
    {
     "data": {
      "text/plain": "[[], [1], [2], [1, 2], [3], [1, 3], [2, 3], [1, 2, 3]]"
     },
     "execution_count": 24,
     "metadata": {},
     "output_type": "execute_result"
    }
   ],
   "source": [
    "nums = [1,2,3]\n",
    "powerSet = [[]]\n",
    "\n",
    "for num in nums:\n",
    "    powerSet += [current + [num] for current in powerSet]\n",
    "\n",
    "powerSet"
   ],
   "metadata": {
    "collapsed": false
   }
  },
  {
   "cell_type": "markdown",
   "source": [
    "## Логические операции в математике и в Python\n"
   ],
   "metadata": {
    "collapsed": false
   }
  },
  {
   "cell_type": "markdown",
   "source": [
    "- Отрицание высказывания A — высказывание, которое истинно тогда и только тогда, когда A ложно. Обозначается знаком ¬ перед (¬ A) или чертой — над высказыванием. Читается: \"не A\", \"неверно, что A\", \"A не имеет места\", \"not A\".\n",
    "- Дизъюнкция высказываний A и B — высказывание, которое истинно только и только тогда, когда истинно хотя бы одно из высказываний A и B. Обозначается: A ∨ B. Читается: \"A или B\", \"A or B\".\n",
    "- Конъюнкция высказываний A и B — высказывание, которое истинно тогда и только тогда, когда A и B истинны.\n",
    "Обозначается: A ∧ B, встречается также A & B. Читается: \"A и B\", \"A and B\".\n",
    "- Импликация с посылкой A и заключением B — высказывание, которое ложно тогда и только тогда, когда A истинно и B ложно.\n",
    "Обозначается: A → B. Читается: \"если A, то B\", \"A влечёт B\", \"из A следует B\".\n",
    "- Эквиваленция высказываний A и B —  высказывание, которое истинно тогда и только тогда, когда A и B одновременно истинны или ложны. Обозначается: A ↔ B или A~B (знак «тильда»). Читается: \"A эквивалентно B\", \"A тогда и только тогда, когда B\"; \"A в том и только в том случае, когда B\", \"A необходимо и достаточно для B\".\n",
    "\n"
   ],
   "metadata": {
    "collapsed": false
   }
  },
  {
   "cell_type": "markdown",
   "source": [
    "\n",
    "XOR (exclusive or, исключающее или) возвращает 1, если один из битов равен 0, а другой бит равен 1. Если оба би-та равны 0 или 1, он возвращает 0. Сравнивает два дво-ичных числа побитово. Если два бита одинаковы, XOR выводит как 0. Когда два бита различны, XOR выводит как 1. Обозначается ^.\n",
    "Пример.\n",
    "A = 10 = 1010 (Binary)\n",
    "b = 7 =  0111 (Binary)\n",
    "Чему равно a ^ b ?\n",
    "a ^ b = 1010 ^ 0111 = 1101  = 13 (Decimal)\n",
    "10 ^ 7 = 13.\n",
    "Ответ: 13.\n"
   ],
   "metadata": {
    "collapsed": false
   }
  },
  {
   "cell_type": "code",
   "execution_count": 5,
   "outputs": [
    {
     "data": {
      "text/plain": "13"
     },
     "execution_count": 5,
     "metadata": {},
     "output_type": "execute_result"
    }
   ],
   "source": [
    "a=10\n",
    "b=7\n",
    "c=a^b\n",
    "c"
   ],
   "metadata": {
    "collapsed": false
   }
  },
  {
   "cell_type": "markdown",
   "source": [
    "Подставьте в код выше значения 5 и 7. Чему равен результат? напишите код ниже:"
   ],
   "metadata": {
    "collapsed": false
   }
  },
  {
   "cell_type": "code",
   "execution_count": null,
   "outputs": [],
   "source": [
    "a=1\n",
    "b=2\n",
    "[вставьте сюда ваш код]"
   ],
   "metadata": {
    "collapsed": false
   }
  },
  {
   "cell_type": "markdown",
   "metadata": {},
   "source": [
    "## Выводы\n",
    "\n",
    "На практике ......"
   ]
  },
  {
   "cell_type": "markdown",
   "metadata": {},
   "source": [
    "## Источники\n",
    "\n",
    "1. ...\n",
    "2. ...\n",
    "3. ..."
   ]
  }
 ],
 "metadata": {
  "kernelspec": {
   "display_name": "Python 3 (ipykernel)",
   "language": "python",
   "name": "python3"
  },
  "language_info": {
   "codemirror_mode": {
    "name": "ipython",
    "version": 3
   },
   "file_extension": ".py",
   "mimetype": "text/x-python",
   "name": "python",
   "nbconvert_exporter": "python",
   "pygments_lexer": "ipython3",
   "version": "3.9.13"
  },
  "widgets": {
   "application/vnd.jupyter.widget-state+json": {
    "state": {},
    "version_major": 2,
    "version_minor": 0
   }
  }
 },
 "nbformat": 4,
 "nbformat_minor": 1
}
